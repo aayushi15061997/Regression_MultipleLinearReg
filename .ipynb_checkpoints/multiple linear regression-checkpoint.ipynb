{
 "cells": [
  {
   "cell_type": "code",
   "execution_count": null,
   "metadata": {},
   "outputs": [],
   "source": [
    "#There are 5 methods of bulding models\n",
    "#1. All -in\n",
    "#2.Backward Selection          '                    '\n",
    "#3.Forward Selection           'stepwise regression'\n",
    "#4. Bidirectional Elimination  '                    '\n",
    "#5.Score Comparison\n",
    "\"\"\"BACKWARD ELIMINATION\n",
    "1.select a significance level to stay in the model(eg SL=0.05)\n",
    "2.fit the full model with all possible prredictors\n",
    "3.consider the predictor with the highest P-value.\n",
    "If P>SL ,go to step4, otherwise go to FIN\n",
    "4.remove the predictor\n",
    "5.fit the model without this variable and go to step 3 again\n",
    "\"\"\""
   ]
  },
  {
   "cell_type": "code",
   "execution_count": 24,
   "metadata": {},
   "outputs": [
    {
     "data": {
      "text/plain": [
       "(array([ 103015.20159797,  132582.27760815,  132447.73845175,\n",
       "          71976.09851258,  178537.48221054,  116161.24230165,\n",
       "          67851.69209676,   98791.73374688,  113969.43533012,\n",
       "         167921.0656955 ]),\n",
       " array([ 103282.38,  144259.4 ,  146121.95,   77798.83,  191050.39,\n",
       "         105008.31,   81229.06,   97483.56,  110352.25,  166187.94]))"
      ]
     },
     "execution_count": 24,
     "metadata": {},
     "output_type": "execute_result"
    }
   ],
   "source": [
    "import numpy as np\n",
    "import matplotlib.pyplot as plt\n",
    "import pandas as pd\n",
    "\n",
    "dataset=pd.read_csv('/Users/Aayushi/Desktop/ML/Regression/Multiple_Linear_Regression/50_Startups.csv')\n",
    "x=dataset.iloc[:,:-1].values\n",
    "y=dataset.iloc[:,4].values\n",
    "dataset\n",
    "\n",
    "#categorical data is found in the second last column\n",
    "from sklearn.preprocessing import LabelEncoder,OneHotEncoder\n",
    "labelencoder_x=LabelEncoder()\n",
    "x[:,3]=labelencoder_x.fit_transform(x[:,3])\n",
    "onehotencoder=OneHotEncoder(categorical_features=[3])\n",
    "x=onehotencoder.fit_transform(x).toarray()\n",
    "#convert scientific notation in output\n",
    "x.astype(int)\n",
    "\n",
    "#avaoiding the dummy variable trap\n",
    "x=x[:,1:]\n",
    "\n",
    "from sklearn.model_selection import train_test_split\n",
    "x_train,x_test,y_train,y_test= train_test_split(x,y,test_size=0.2,random_state=0)\n",
    "\n",
    "#fitting multiple reg to the training set\n",
    "from sklearn.linear_model import LinearRegression\n",
    "regressor=LinearRegression()\n",
    "regressor.fit(x_train,y_train)\n",
    "\n",
    "#prediction of test set results\n",
    "y_pred = regressor.predict(x_test)\n",
    "y_pred,y_test\n",
    "\n"
   ]
  },
  {
   "cell_type": "code",
   "execution_count": 26,
   "metadata": {},
   "outputs": [
    {
     "name": "stdout",
     "output_type": "stream",
     "text": [
      "                                                                     y_pred    y_test\n",
      "------  ------  ------  -------  ------  ------  -------  -------  --------  --------\n",
      "103015  132582  132448  71976.1  178537  116161  67851.7  98791.7    113969    167921\n",
      "103282  144259  146122  77798.8  191050  105008  81229.1  97483.6    110352    166188\n"
     ]
    },
    {
     "data": {
      "text/plain": [
       "(array([ 103015.20159797,  132582.27760815,  132447.73845175,\n",
       "          71976.09851258,  178537.48221054,  116161.24230165,\n",
       "          67851.69209676,   98791.73374688,  113969.43533012,\n",
       "         167921.0656955 ]),\n",
       " array([ 103282.38,  144259.4 ,  146121.95,   77798.83,  191050.39,\n",
       "         105008.31,   81229.06,   97483.56,  110352.25,  166187.94]))"
      ]
     },
     "execution_count": 26,
     "metadata": {},
     "output_type": "execute_result"
    }
   ],
   "source": [
    "#to display in table form\n",
    "from tabulate import tabulate\n",
    "m = np.array([y_pred, y_test])\n",
    "headers = [\"y_pred\", \"y_test\"]\n",
    "# tabulate data\n",
    "table = tabulate(m, headers, tablefmt=\"simple\")\n",
    "print(table)\n",
    "\n",
    "y_pred,y_test"
   ]
  },
  {
   "cell_type": "code",
   "execution_count": null,
   "metadata": {},
   "outputs": [],
   "source": []
  }
 ],
 "metadata": {
  "kernelspec": {
   "display_name": "Python 3",
   "language": "python",
   "name": "python3"
  },
  "language_info": {
   "codemirror_mode": {
    "name": "ipython",
    "version": 3
   },
   "file_extension": ".py",
   "mimetype": "text/x-python",
   "name": "python",
   "nbconvert_exporter": "python",
   "pygments_lexer": "ipython3",
   "version": "3.6.3"
  }
 },
 "nbformat": 4,
 "nbformat_minor": 2
}
